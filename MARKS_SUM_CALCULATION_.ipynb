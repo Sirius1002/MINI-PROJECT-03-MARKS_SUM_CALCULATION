{
  "nbformat": 4,
  "nbformat_minor": 0,
  "metadata": {
    "colab": {
      "provenance": [],
      "authorship_tag": "ABX9TyOtXf3fXr2kXvREL3hMxl+K",
      "include_colab_link": true
    },
    "kernelspec": {
      "name": "python3",
      "display_name": "Python 3"
    },
    "language_info": {
      "name": "python"
    }
  },
  "cells": [
    {
      "cell_type": "markdown",
      "metadata": {
        "id": "view-in-github",
        "colab_type": "text"
      },
      "source": [
        "<a href=\"https://colab.research.google.com/github/Sirius1002/MINI-PROJECT-03-MARKS_SUM_CALCULATION/blob/main/MARKS_SUM_CALCULATION_.ipynb\" target=\"_parent\"><img src=\"https://colab.research.google.com/assets/colab-badge.svg\" alt=\"Open In Colab\"/></a>"
      ]
    },
    {
      "cell_type": "code",
      "execution_count": 3,
      "metadata": {
        "colab": {
          "base_uri": "https://localhost:8080/"
        },
        "id": "9pIcfxkipiwc",
        "outputId": "adbaab87-d24d-43f8-8992-d322a3f8b46e"
      },
      "outputs": [
        {
          "output_type": "stream",
          "name": "stdout",
          "text": [
            "Sum of marks has been written to output.txt\n"
          ]
        }
      ],
      "source": [
        "# Read input file\n",
        "input_file_path = 'input.txt'\n",
        "with open(input_file_path, 'r') as input_file:\n",
        "    lines = input_file.readlines()\n",
        "\n",
        "# Extract marks and calculate sum\n",
        "marks_sum = 0\n",
        "for line in lines:\n",
        "    roll_number, marks = line.strip().split(' ')\n",
        "    marks_sum += int(marks)\n",
        "\n",
        "# Write sum to output file\n",
        "output_file_path = 'output.txt'\n",
        "with open(output_file_path, 'w') as output_file:\n",
        "    output_file.write(str(marks_sum))\n",
        "\n",
        "print(\"Sum of marks has been written to output.txt\")"
      ]
    }
  ]
}